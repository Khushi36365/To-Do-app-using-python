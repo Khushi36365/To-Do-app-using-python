{
  "nbformat": 4,
  "nbformat_minor": 0,
  "metadata": {
    "colab": {
      "provenance": []
    },
    "kernelspec": {
      "name": "python3",
      "display_name": "Python 3"
    },
    "language_info": {
      "name": "python"
    }
  },
  "cells": [
    {
      "cell_type": "code",
      "execution_count": null,
      "metadata": {
        "colab": {
          "base_uri": "https://localhost:8080/"
        },
        "id": "qrgK2LfDoAJL",
        "outputId": "3eb4d202-7703-4359-effc-33abb6730c13"
      },
      "outputs": [
        {
          "output_type": "stream",
          "name": "stdout",
          "text": [
            "\n",
            "To-Do List:\n",
            "\n",
            "Options:\n",
            "1. Add Task\n",
            "2. Delete Task\n",
            "3. Mark Task as Completed\n",
            "4. Exit\n",
            "Enter your choice: 1\n",
            "Enter the task: drink water\n",
            "\n",
            "To-Do List:\n",
            "1. drink water - Pending\n",
            "\n",
            "Options:\n",
            "1. Add Task\n",
            "2. Delete Task\n",
            "3. Mark Task as Completed\n",
            "4. Exit\n",
            "Enter your choice: 3\n",
            "Enter the index of the task to mark as completed: 1\n",
            "\n",
            "To-Do List:\n",
            "1. drink water - Completed\n",
            "\n",
            "Options:\n",
            "1. Add Task\n",
            "2. Delete Task\n",
            "3. Mark Task as Completed\n",
            "4. Exit\n",
            "Enter your choice: 2\n",
            "Enter the index of the task to delete: 1\n",
            "\n",
            "To-Do List:\n",
            "\n",
            "Options:\n",
            "1. Add Task\n",
            "2. Delete Task\n",
            "3. Mark Task as Completed\n",
            "4. Exit\n",
            "Enter your choice: 4\n",
            "Exiting...\n"
          ]
        }
      ],
      "source": [
        "class TodoList:\n",
        "    def __init__(self):\n",
        "        self.tasks = []\n",
        "\n",
        "    def add_task(self, task):\n",
        "        self.tasks.append({\"task\": task, \"completed\": False})\n",
        "\n",
        "    def delete_task(self, index):\n",
        "        del self.tasks[index]\n",
        "\n",
        "    def mark_completed(self, index):\n",
        "        self.tasks[index][\"completed\"] = True\n",
        "\n",
        "    def display_tasks(self):\n",
        "        for index, task in enumerate(self.tasks):\n",
        "            status = \"Completed\" if task[\"completed\"] else \"Pending\"\n",
        "            print(f\"{index + 1}. {task['task']} - {status}\")\n",
        "\n",
        "def main():\n",
        "    todo_list = TodoList()\n",
        "\n",
        "    while True:\n",
        "        print(\"\\nTo-Do List:\")\n",
        "        todo_list.display_tasks()\n",
        "\n",
        "        print(\"\\nOptions:\")\n",
        "        print(\"1. Add Task\")\n",
        "        print(\"2. Delete Task\")\n",
        "        print(\"3. Mark Task as Completed\")\n",
        "        print(\"4. Exit\")\n",
        "\n",
        "        choice = input(\"Enter your choice: \")\n",
        "\n",
        "        if choice == \"1\":\n",
        "            task = input(\"Enter the task: \")\n",
        "            todo_list.add_task(task)\n",
        "        elif choice == \"2\":\n",
        "            index = int(input(\"Enter the index of the task to delete: \")) - 1\n",
        "            todo_list.delete_task(index)\n",
        "        elif choice == \"3\":\n",
        "            index = int(input(\"Enter the index of the task to mark as completed: \")) - 1\n",
        "            todo_list.mark_completed(index)\n",
        "        elif choice == \"4\":\n",
        "            print(\"Exiting...\")\n",
        "            break\n",
        "        else:\n",
        "            print(\"Invalid choice. Please try again.\")\n",
        "\n",
        "if __name__ == \"__main__\":\n",
        "    main()\n"
      ]
    },
    {
      "cell_type": "code",
      "source": [],
      "metadata": {
        "id": "JBc9xrFsEtfB"
      },
      "execution_count": null,
      "outputs": []
    }
  ]
}